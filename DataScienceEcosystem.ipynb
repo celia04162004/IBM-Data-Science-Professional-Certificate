{
 "cells": [
  {
   "cell_type": "markdown",
   "metadata": {},
   "source": [
    "<center>\n",
    "    <img src=\"https://cf-courses-data.s3.us.cloud-object-storage.appdomain.cloud/IBMDeveloperSkillsNetwork-DS0105EN-SkillsNetwork/labs/Module2/images/SN_web_lightmode.png\" width=\"300\" alt=\"cognitiveclass.ai logo\">\n",
    "</center>\n"
   ]
  },
  {
   "cell_type": "markdown",
   "metadata": {},
   "source": [
    "#### Add your code below following the instructions given in the course\n"
   ]
  },
  {
   "cell_type": "markdown",
   "metadata": {},
   "source": [
    "**Exercise 1: Create a Jupyter Notebook**\n",
    "\n",
    "Create a new Jupyter notebook called **DataScienceEcosystem.ipynb**\n",
    "\n",
    "> _Note: The next item in the course will launch JupyterLite with an empty notebook with this name that you can use to complete rest of the Exercises. You can also use any other Jupyter notebook environment (e.g. Anaconda) that you prefer to complete the assignment._"
   ]
  },
  {
   "cell_type": "markdown",
   "metadata": {},
   "source": [
    "**Exercise 2: Create markdown cell with title of the notebook**\n",
    "\n",
    "Create a markdown cell with the title <kbd style=\"color#ff0000;\">Data Science Tools and Ecosystem</kbd> using H1 style heading.\n",
    "\n",
    "***Take a screenshot of the markdown cell and name it as <kbd style=\"color#ff0000;\">2-title.png</kbd>***"
   ]
  },
  {
   "cell_type": "markdown",
   "metadata": {},
   "source": [
    "# Data Science Tools and Ecosystem"
   ]
  },
  {
   "cell_type": "markdown",
   "metadata": {},
   "source": [
    "**Exercise 3 - Create a markdown cell for an introduction**\n",
    "\n",
    "Write an introductory sentence about the notebook such as the follows:\n",
    "\n",
    "<kbd style=\"color#ff0000;\">In this notebook, Data Science Tools and Ecosystem are summarized.</kbd>\n",
    "\n",
    "***Take a screenshot of the markdown cell and name it as <kbd style=\"color#ff0000;\">3-intro.png</kbd>***"
   ]
  },
  {
   "cell_type": "markdown",
   "metadata": {},
   "source": [
    "In this notebook, Data Science Tools and Ecosystem are summarized."
   ]
  },
  {
   "cell_type": "markdown",
   "metadata": {},
   "source": [
    "**Exercise 10 - Insert a markdown cell to list Objectives**\n",
    "\n",
    "Below the introduction cell created in Exercise 3, insert a new markdown cell to list the objectives that this notebook covered (i.e. some of the key takeaways from the course). In this new cell start with an introductory line titled: <kbd style=\"color#ff0000;\">Objectives:</kbd> in bold font. Then using an <kbd style=\"color#ff0000;\">unordered list</kbd> (bullets) indicate 3 to 5 items covered in this notebook, such as <kbd style=\"color#ff0000;\">List popular languages for Data Science</kbd>.\n",
    "\n",
    "***Take a screenshot of the markdown cell and name it as <kbd style=\"color#ff0000;\">10-objectives.png</kbd>***"
   ]
  },
  {
   "cell_type": "markdown",
   "metadata": {},
   "source": [
    "**Objectives:**\n",
    "\n",
    "* Popular languages for data scientists: Python, R, SQL\n",
    "* Commonly used libraries by data scientists: Pandas, NumPy, Matplotlib, Scikit-learn\n",
    "* The well-known open-source development environments: Jupyter Notebook, RStudio, Microsoft Visual Studio\n",
    "* Arithmetic expressions in Python including mutiply (*), add (+), and divide (/)"
   ]
  },
  {
   "cell_type": "markdown",
   "metadata": {},
   "source": [
    "**Exercise 4 - Create a markdown cell to list data science languages**\n",
    "\n",
    "Start the cell with an overview line such as:\n",
    "\n",
    "<kbd style=\"color#ff0000;\">Some of the popular languages that Data Scientists use are:</kbd>\n",
    "\n",
    "Then create an <kbd style=\"color#ff0000;\">ordered list</kbd> (i.e. numbered) listing 3 (or more) commonly used languages for data science.\n",
    "\n",
    "***Take a screenshot of the markdown cell and name it as <kbd style=\"color#ff0000;\">4-dslanguages.png</kbd>***"
   ]
  },
  {
   "cell_type": "markdown",
   "metadata": {},
   "source": [
    "Popular languages for Data Scientists are:\n",
    "\n",
    "1. Python (A high-level, general-purpose programming language)(open source)\n",
    "2. R (The largest repositories for statistical knowledge)(free software)\n",
    "3. SQL (A non-procedural language limited to querying and managing data)(ANSI standard - apply to other databases easily)\n",
    "4. Scala (A general-purpose programming language)(extension to Java)(Popular program: Apache Spark)\n",
    "5. Java (A general-purpose object-oriented programming language)(Notable: Hadoop)\n",
    "6. C++ (A general-purpose programming language)(extention to C)(Python rely on C++)(Application: TensorFlow, MongoDB, Caffe)\n",
    "7. Julia (Provides speedy development and produces fast programs)(promising in the future on data science)\n",
    "8. JavaScript (A general-purpose programming language)(core tech for the world wide web)(Application: TensorFlow.js, R-js)\n",
    "9. PHP\n",
    "10. Go\n",
    "11. Ruby\n",
    "12. Visual Basic"
   ]
  },
  {
   "cell_type": "markdown",
   "metadata": {},
   "source": [
    "**Exercise 5 - Create a markdown cell to list data science libraries**\n",
    "\n",
    "Add an overview line to the cell like:\n",
    "\n",
    "<kbd style=\"color#ff0000;\">Some of the commonly used libraries used by Data Scientists include:</kbd>\n",
    "\n",
    "Below this line add an <kbd style=\"color#ff0000;\">ordered list</kbd> listing 3 (or more) commonly used libraries in data science.\n",
    "\n",
    "***Take a screenshot of the markdown cell and name it as <kbd style=\"color#ff0000;\">5-dslibraries.png</kbd>***"
   ]
  },
  {
   "cell_type": "markdown",
   "metadata": {},
   "source": [
    "Commonly used libraries for Data Scientists are: (Python: 1-9; Others: 10-12)\n",
    "\n",
    "1. Pandas (Data Structure and Tool)\n",
    "2. NumPy (Arrays and Metrices)\n",
    "3. Matplotlib (plots & graphs)(most popular)\n",
    "4. Seaborn (heat maps, time series, violin plots)\n",
    "5. Plotly (line charts, scatter plots, pie charts)\n",
    "6. Scikit-learn (Machine Learning: regression, classification, clustering)\n",
    "7. Keras (Deep Learning Neural Networks)\n",
    "8. TensorFlow (Deep Learning: Production and Development)\n",
    "9. PyTorch (Deep Learning: regression and classification)\n",
    "10. Apache Spark (General-purpose cluster-computing framework)(Similar libraries as Pandas, NumPy, Scikit-learn)\n",
    "11. Scala Libraries: Vegas (Data Visualization), Big DL (Deep Learning)\n",
    "12. R Libraries: ggplot2 (Data Visualization), (Libraries to interface with Keras, TensorFlow)"
   ]
  },
  {
   "cell_type": "markdown",
   "metadata": {},
   "source": [
    "**Exercise 6 - Create a markdown cell with a table of Data Science tools**\n",
    "\n",
    "Create a single column table in this cell with the first row containing the header <kbd style=\"color#ff0000;\">Data Science Tools.</kbd> The subsequent three rows in the table should indicate three development environment open source tools used in data science.\n",
    "\n",
    "***Take a screenshot of the markdown cell and name it as <kbd style=\"color#ff0000;\">6-dstools.png</kbd>***\n",
    "\n",
    "*Hint: Refer to*  **Lab: Using Markdowns in Jupyter Notebooks** *to create a table.*"
   ]
  },
  {
   "cell_type": "markdown",
   "metadata": {},
   "source": [
    "## Data Science Tools - Development Environments (Open Source)\n",
    "\n",
    "|Data Science Tools|\n",
    "|:-----------------:|\n",
    "|Jupyter Notebooks|\n",
    "|RStudio|\n",
    "|Microsoft Visual Studio|"
   ]
  },
  {
   "cell_type": "markdown",
   "metadata": {},
   "source": [
    "**Exercise 7 - Create a markdown cell introducing arithmetic expression examples**\n",
    "\n",
    "Add a line in this cell with H3 style heading with text like:\n",
    "\n",
    "<kbd style=\"color#ff0000;\">Below are a few examples of evaluating arithmetic expressions in Python.</kbd>\n",
    "\n",
    "***Take a screenshot of the markdown cell and name it as <kbd style=\"color#ff0000;\">7-introarithmetic.png</kbd>***"
   ]
  },
  {
   "cell_type": "markdown",
   "metadata": {},
   "source": [
    "### Below are a few examples of evaluating arithmetic expressions in Python"
   ]
  },
  {
   "cell_type": "markdown",
   "metadata": {},
   "source": [
    "**Exercise 8 - Create a code cell to multiply and add numbers**\n",
    "\n",
    "In this code cell evaluate the expression <code>(3*4)+5<code>.\n",
    "\n",
    "*Insert a comment line before the expression to explain the operation e.g.* <kbd style=\"color#ff0000;\">This a simple arithmetic expression to multiply then add integers</kbd>.\n",
    "\n",
    "Then execute the cell to ensure the expression returns the expected output of <code>17<code>.\n",
    "\n",
    "***Take a screenshot of the code cell with output and name it as <kbd style=\"color#ff0000;\">8-multiplyandaddintegers.png</kbd>***"
   ]
  },
  {
   "cell_type": "code",
   "execution_count": 9,
   "metadata": {},
   "outputs": [
    {
     "name": "stdout",
     "output_type": "stream",
     "text": [
      "17\n"
     ]
    }
   ],
   "source": [
    "# This is a simple example of arithmetic calculations in Python\n",
    "\n",
    "print((3*4)+5)"
   ]
  },
  {
   "cell_type": "markdown",
   "metadata": {},
   "source": [
    "**Exercise 9 - Create a code cell to convert minutes to hours**\n",
    "\n",
    "In this code cell write an expression that converts <kbd style=\"color#ff0000;\">200 minutes</kbd> into <kbd style=\"color#ff0000;\">hours</kbd>.\n",
    "\n",
    "*Insert a comment line before the expression to explain the operation e.g.*  <kbd style=\"color#ff0000;\">This will convert 200 minutes to hours by diving by 60</kbd>.\n",
    "\n",
    "Run the cell to evaluate the expression.\n",
    "\n",
    "***Take a screenshot of the code cell with output and name it as <kbd style=\"color#ff0000;\">9-hourstominutes.png</kbd>***"
   ]
  },
  {
   "cell_type": "code",
   "execution_count": 11,
   "metadata": {},
   "outputs": [
    {
     "name": "stdout",
     "output_type": "stream",
     "text": [
      "3.33\n"
     ]
    }
   ],
   "source": [
    "# To convert 200 minutes to hours by dividing by 60\n",
    "\n",
    "print(round(200/60, 2))"
   ]
  },
  {
   "cell_type": "markdown",
   "metadata": {},
   "source": [
    "**Exercise 10 - Below the Exercise 3**"
   ]
  },
  {
   "cell_type": "markdown",
   "metadata": {},
   "source": [
    "**Exercise 11 - Create a markdown cell to indicate the Author's name**\n",
    "\n",
    "In this markdown cell markdown cell include the following text <kbd style=\"color#ff0000;\">Author</kbd> in <kbd style=\"color#ff0000;\">H2 style heading</kbd>. Include your <kbd style=\"color#ff0000;\">name</kbd> as regular text below the word <kbd style=\"color#ff0000;\">Author</kbd>.\n",
    "\n",
    "***Take a screenshot of the markdown cell and name it as <kbd style=\"color#ff0000;\">11-authordetails.png</kbd>***\n",
    "\n",
    " > _Note: Save and download the notebook._"
   ]
  },
  {
   "cell_type": "markdown",
   "metadata": {},
   "source": [
    "## Author\n",
    "Shu-Yen Cheng (Celia Cheng)"
   ]
  },
  {
   "cell_type": "markdown",
   "metadata": {},
   "source": [
    "**Exercise 12 - Share your notebook through GitHub**\n",
    "\n",
    "Upload your notebook to a public respository on **GitHub**.\n",
    "\n",
    "> _Note : Please keep the GitHub repo link of the notebook handy.\\\n",
    "You will need to submit this link as a part of the assignment evaluation._\n",
    "\n",
    "*Hint: Refer to* ***Lab: Working with files in Jupyter Notebooks*** *to download the notebook from* ***SN Labs***."
   ]
  },
  {
   "cell_type": "markdown",
   "metadata": {},
   "source": [
    "**Exercise 13 -Take a screenshot of the first page of the notebook and save it as <kbd style=\"color#ff0000;\">1-notebook.png</kbd>**\n",
    "\n",
    "*Refer to* ***Hands-on Lab: Getting Started with GitHub*** *to upload the downloaded notebook to* ***GitHub***."
   ]
  }
 ],
 "metadata": {
  "kernelspec": {
   "display_name": "Python 3 (ipykernel)",
   "language": "python",
   "name": "python3"
  },
  "language_info": {
   "codemirror_mode": {
    "name": "ipython",
    "version": 3
   },
   "file_extension": ".py",
   "mimetype": "text/x-python",
   "name": "python",
   "nbconvert_exporter": "python",
   "pygments_lexer": "ipython3",
   "version": "3.12.8"
  }
 },
 "nbformat": 4,
 "nbformat_minor": 4
}
